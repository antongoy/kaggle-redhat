{
 "cells": [
  {
   "cell_type": "code",
   "execution_count": 1,
   "metadata": {
    "collapsed": false
   },
   "outputs": [
    {
     "data": {
      "text/html": [
       "<style>.container { width: 98% }<\\style>"
      ],
      "text/plain": [
       "<IPython.core.display.HTML object>"
      ]
     },
     "execution_count": 1,
     "metadata": {},
     "output_type": "execute_result"
    }
   ],
   "source": [
    "from IPython.core.display import HTML\n",
    "HTML(\"<style>.container { width: 98% }<\\style>\")"
   ]
  },
  {
   "cell_type": "code",
   "execution_count": 2,
   "metadata": {
    "collapsed": true
   },
   "outputs": [],
   "source": [
    "import numpy as np\n",
    "import pandas as pd\n",
    "import seaborn as sns\n",
    "import matplotlib.pyplot as plt\n",
    "\n",
    "%matplotlib inline"
   ]
  },
  {
   "cell_type": "code",
   "execution_count": 3,
   "metadata": {
    "collapsed": true
   },
   "outputs": [],
   "source": [
    "activities_train = pd.read_csv('../data/act_train.csv.zip', index_col='activity_id', parse_dates=['date'])\n",
    "activities_test = pd.read_csv('../data/act_test.csv.zip', index_col='activity_id', parse_dates=['date'])\n",
    "people = pd.read_csv('../data/people.csv.zip', parse_dates=['date'])"
   ]
  },
  {
   "cell_type": "code",
   "execution_count": 4,
   "metadata": {
    "collapsed": false
   },
   "outputs": [
    {
     "name": "stdout",
     "output_type": "stream",
     "text": [
      "People from train:  151295\n",
      "People from test:  37823\n",
      "People from intersection:  0\n"
     ]
    }
   ],
   "source": [
    "print('People from train: ', activities_train.people_id.unique().size)\n",
    "print('People from test: ', activities_test.people_id.unique().size)\n",
    "\n",
    "print('People from intersection: ', np.intersect1d(activities_train.people_id.unique(), \n",
    "                                                   activities_test.people_id.unique()).size)"
   ]
  },
  {
   "cell_type": "code",
   "execution_count": 5,
   "metadata": {
    "collapsed": false
   },
   "outputs": [
    {
     "name": "stdout",
     "output_type": "stream",
     "text": [
      "People from void: 0\n"
     ]
    }
   ],
   "source": [
    "people_from_train = activities_train.people_id.unique()\n",
    "people_from_test = activities_test.people_id.unique()\n",
    "\n",
    "people_from_void = people.people_id[~people.people_id.isin(np.hstack((people_from_train, people_from_test)))].values\n",
    "\n",
    "print('People from void:', people_from_void.size)"
   ]
  },
  {
   "cell_type": "code",
   "execution_count": 6,
   "metadata": {
    "collapsed": false
   },
   "outputs": [],
   "source": [
    "train = pd.merge(activities_train[['people_id', 'outcome', 'date']], \n",
    "                 people[['people_id', 'group_1', 'char_2']], \n",
    "                 on='people_id', \n",
    "                 right_index=True)\n",
    "\n",
    "test = pd.merge(activities_test[['people_id', 'date']], \n",
    "                 people[['people_id', 'group_1', 'char_2']], \n",
    "                 on='people_id', \n",
    "                 right_index=True)"
   ]
  },
  {
   "cell_type": "code",
   "execution_count": 47,
   "metadata": {
    "collapsed": false
   },
   "outputs": [
    {
     "data": {
      "text/plain": [
       "<matplotlib.axes._subplots.AxesSubplot at 0x7f081b5d1c18>"
      ]
     },
     "execution_count": 47,
     "metadata": {},
     "output_type": "execute_result"
    },
    {
     "data": {
      "image/png": "[encoded data removed]",
      "text/plain": [
       "<matplotlib.figure.Figure at 0x7f081b5e0080>"
      ]
     },
     "metadata": {},
     "output_type": "display_data"
    }
   ],
   "source": [
    "train.groupby('group_1')['outcome'].mean().plot.hist(figsize=(11, 7), bins=4)"
   ]
  },
  {
   "cell_type": "code",
   "execution_count": 55,
   "metadata": {
    "collapsed": false
   },
   "outputs": [
    {
     "name": "stdout",
     "output_type": "stream",
     "text": [
      "Groups from train:  29899\n",
      "Groups from test:  11640\n",
      "Groups from intersection:  7315\n"
     ]
    }
   ],
   "source": [
    "print('Groups from train: ', train.group_1.unique().size) \n",
    "print('Groups from test: ', test.group_1.unique().size)\n",
    "print('Groups from intersection: ', np.intersect1d(test.group_1.unique(), train.group_1.unique()).size) "
   ]
  },
  {
   "cell_type": "code",
   "execution_count": 70,
   "metadata": {
    "collapsed": false
   },
   "outputs": [
    {
     "data": {
      "text/plain": [
       "<matplotlib.axes._subplots.AxesSubplot at 0x7f081b6b1a90>"
      ]
     },
     "execution_count": 70,
     "metadata": {},
     "output_type": "execute_result"
    },
    {
     "data": {
      "image/png": "[encoded data removed]",
      "text/plain": [
       "<matplotlib.figure.Figure at 0x7f081b6bbc88>"
      ]
     },
     "metadata": {},
     "output_type": "display_data"
    }
   ],
   "source": [
    "train.char_2.value_counts().plot.bar()\n",
    "test.char_2.value_counts().plot.bar(color='green')"
   ]
  },
  {
   "cell_type": "code",
   "execution_count": 62,
   "metadata": {
    "collapsed": false
   },
   "outputs": [
    {
     "data": {
      "text/plain": [
       "char_2\n",
       "type 1    0.690992\n",
       "type 2    0.000000\n",
       "type 3    0.698855\n",
       "Name: outcome, dtype: float64"
      ]
     },
     "execution_count": 62,
     "metadata": {},
     "output_type": "execute_result"
    }
   ],
   "source": [
    "train.groupby('char_2')['outcome'].mean()"
   ]
  },
  {
   "cell_type": "code",
   "execution_count": 10,
   "metadata": {
    "collapsed": false
   },
   "outputs": [
    {
     "name": "stdout",
     "output_type": "stream",
     "text": [
      "Prob = 0.1, AUC = 0.9708361531367453\n",
      "Prob = 0.14444444444444446, AUC = 0.9709311935633832\n",
      "Prob = 0.18888888888888888, AUC = 0.9711062949826639\n",
      "Prob = 0.23333333333333334, AUC = 0.9713048112365088\n",
      "Prob = 0.2777777777777778, AUC = 0.9713135928440594\n",
      "Prob = 0.32222222222222224, AUC = 0.9712793182002095\n",
      "Prob = 0.3666666666666667, AUC = 0.9712560008220182\n",
      "Prob = 0.4111111111111111, AUC = 0.9711336771727526\n",
      "Prob = 0.4555555555555556, AUC = 0.970931458514769\n",
      "Prob = 0.5, AUC = 0.970723807641881\n"
     ]
    }
   ],
   "source": [
    "from misc import encode_cat_feature_using_targets, make_submission\n",
    "from sklearn.metrics import roc_auc_score\n",
    "\n",
    "for default_prob in np.linspace(0.1, 0.5, 10):\n",
    "    encoded_group_1 = encode_cat_feature_using_targets(train.group_1, \n",
    "                                                       train.outcome, \n",
    "                                                       test.group_1, \n",
    "                                                       default_prob=default_prob, \n",
    "                                                       n_folds=5, random_state=45)\n",
    "    make_submission(encoded_group_1, path='../submissions/only_group_1_submission.csv', index=test.index, name='outcome')\n",
    "\n",
    "    auc = roc_auc_score(train.outcome, encoded_group_1)\n",
    "    \n",
    "    print('Prob = {prob}, AUC = {auc}'.format(prob=default_prob, auc=auc))"
   ]
  },
  {
   "cell_type": "code",
   "execution_count": null,
   "metadata": {
    "collapsed": true
   },
   "outputs": [],
   "source": []
  }
 ],
 "metadata": {
  "kernelspec": {
   "display_name": "Python 3",
   "language": "python",
   "name": "python3"
  },
  "language_info": {
   "codemirror_mode": {
    "name": "ipython",
    "version": 3
   },
   "file_extension": ".py",
   "mimetype": "text/x-python",
   "name": "python",
   "nbconvert_exporter": "python",
   "pygments_lexer": "ipython3",
   "version": "3.5.1+"
  }
 },
 "nbformat": 4,
 "nbformat_minor": 0
}
