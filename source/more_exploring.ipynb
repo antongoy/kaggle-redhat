{
 "cells": [
  {
   "cell_type": "code",
   "execution_count": 1,
   "metadata": {
    "collapsed": false
   },
   "outputs": [
    {
     "data": {
      "text/html": [
       "<style>.container { width: 98% }<\\style>"
      ],
      "text/plain": [
       "<IPython.core.display.HTML object>"
      ]
     },
     "execution_count": 1,
     "metadata": {},
     "output_type": "execute_result"
    }
   ],
   "source": [
    "from IPython.core.display import HTML\n",
    "HTML(\"<style>.container { width: 98% }<\\style>\")"
   ]
  },
  {
   "cell_type": "code",
   "execution_count": 2,
   "metadata": {
    "collapsed": true
   },
   "outputs": [],
   "source": [
    "import numpy as np\n",
    "import pandas as pd\n",
    "import seaborn as sns\n",
    "import matplotlib.pyplot as plt\n",
    "\n",
    "%matplotlib inline"
   ]
  },
  {
   "cell_type": "code",
   "execution_count": 3,
   "metadata": {
    "collapsed": true
   },
   "outputs": [],
   "source": [
    "activities_train = pd.read_csv('../data/act_train.csv.zip', index_col='activity_id', parse_dates=['date'])\n",
    "activities_test = pd.read_csv('../data/act_test.csv.zip', index_col='activity_id', parse_dates=['date'])\n",
    "people = pd.read_csv('../data/people.csv.zip', parse_dates=['date'])"
   ]
  },
  {
   "cell_type": "code",
   "execution_count": 8,
   "metadata": {
    "collapsed": false
   },
   "outputs": [
    {
     "data": {
      "text/plain": [
       "Index(['people_id', 'char_1', 'group_1', 'char_2', 'date', 'char_3', 'char_4',\n",
       "       'char_5', 'char_6', 'char_7', 'char_8', 'char_9', 'char_10', 'char_11',\n",
       "       'char_12', 'char_13', 'char_14', 'char_15', 'char_16', 'char_17',\n",
       "       'char_18', 'char_19', 'char_20', 'char_21', 'char_22', 'char_23',\n",
       "       'char_24', 'char_25', 'char_26', 'char_27', 'char_28', 'char_29',\n",
       "       'char_30', 'char_31', 'char_32', 'char_33', 'char_34', 'char_35',\n",
       "       'char_36', 'char_37', 'char_38'],\n",
       "      dtype='object')"
      ]
     },
     "execution_count": 8,
     "metadata": {},
     "output_type": "execute_result"
    }
   ],
   "source": [
    "people.columns"
   ]
  },
  {
   "cell_type": "code",
   "execution_count": 48,
   "metadata": {
    "collapsed": false
   },
   "outputs": [
    {
     "data": {
      "text/plain": [
       "<Container object of 3 artists>"
      ]
     },
     "execution_count": 48,
     "metadata": {},
     "output_type": "execute_result"
    },
    {
     "data": {
      "image/png": "[encoded data removed]",
      "text/plain": [
       "<matplotlib.figure.Figure at 0x7f273472d780>"
      ]
     },
     "metadata": {},
     "output_type": "display_data"
    }
   ],
   "source": [
    "people_id = pd.merge(people[['people_id']], \n",
    "                   activities_train[['people_id', 'outcome']], \n",
    "                   on='people_id', \n",
    "                   left_index=True)\n",
    "\n",
    "avg_outcome_of_each_person = people_id.groupby('people_id')['outcome'].mean()\n",
    "\n",
    "number_of_people_ones = (avg_outcome_of_each_person == 1.0).sum()\n",
    "number_of_people_zeros = (avg_outcome_of_each_person == 0.0).sum()\n",
    "number_of_people_mixed = ((avg_outcome_of_each_person != 1.0) & (avg_outcome_of_each_person != 0.0)).sum()\n",
    "\n",
    "plt.bar([0.0, 0.4, 0.8], [number_of_people_zeros, number_of_people_mixed, number_of_people_ones], width=0.2)"
   ]
  },
  {
   "cell_type": "code",
   "execution_count": 50,
   "metadata": {
    "collapsed": false
   },
   "outputs": [
    {
     "data": {
      "text/plain": [
       "<Container object of 3 artists>"
      ]
     },
     "execution_count": 50,
     "metadata": {},
     "output_type": "execute_result"
    },
    {
     "data": {
      "image/png": "[encoded data removed]",
      "text/plain": [
       "<matplotlib.figure.Figure at 0x7f273461de10>"
      ]
     },
     "metadata": {},
     "output_type": "display_data"
    }
   ],
   "source": [
    "group_1 = pd.merge(people[['people_id', 'group_1']], \n",
    "                   activities_train[['people_id', 'outcome']], \n",
    "                   on='people_id', \n",
    "                   \n",
    "                   left_index=True).drop('people_id', axis=1)\n",
    "\n",
    "avg_outcome_of_each_group = group_1.groupby('group_1')['outcome'].mean()\n",
    "\n",
    "number_of_groups_ones = (avg_outcome_of_each_group == 1.0).sum()\n",
    "number_of_groups_zeros = (avg_outcome_of_each_group == 0.0).sum()\n",
    "number_of_groups_mixed = ((avg_outcome_of_each_group != 1.0) & (avg_outcome_of_each_group != 0.0)).sum()\n",
    "\n",
    "plt.bar([0.0, 0.4, 0.8], [number_of_groups_zeros, number_of_groups_mixed, number_of_groups_ones], width=0.2)"
   ]
  },
  {
   "cell_type": "code",
   "execution_count": null,
   "metadata": {
    "collapsed": true
   },
   "outputs": [],
   "source": []
  }
 ],
 "metadata": {
  "kernelspec": {
   "display_name": "Python 3",
   "language": "python",
   "name": "python3"
  },
  "language_info": {
   "codemirror_mode": {
    "name": "ipython",
    "version": 3
   },
   "file_extension": ".py",
   "mimetype": "text/x-python",
   "name": "python",
   "nbconvert_exporter": "python",
   "pygments_lexer": "ipython3",
   "version": "3.5.1+"
  }
 },
 "nbformat": 4,
 "nbformat_minor": 0
}
